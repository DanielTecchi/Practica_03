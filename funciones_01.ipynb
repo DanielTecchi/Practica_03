{
  "nbformat": 4,
  "nbformat_minor": 0,
  "metadata": {
    "kernelspec": {
      "display_name": "Python 3",
      "language": "python",
      "name": "python3"
    },
    "language_info": {
      "codemirror_mode": {
        "name": "ipython",
        "version": 3
      },
      "file_extension": ".py",
      "mimetype": "text/x-python",
      "name": "python",
      "nbconvert_exporter": "python",
      "pygments_lexer": "ipython3",
      "version": "3.8.2"
    },
    "colab": {
      "name": "funciones_01.ipynb",
      "provenance": [],
      "include_colab_link": true
    }
  },
  "cells": [
    {
      "cell_type": "markdown",
      "metadata": {
        "id": "view-in-github",
        "colab_type": "text"
      },
      "source": [
        "<a href=\"https://colab.research.google.com/github/DanielTecchi/Practica_01/blob/master/funciones_01.ipynb\" target=\"_parent\"><img src=\"https://colab.research.google.com/assets/colab-badge.svg\" alt=\"Open In Colab\"/></a>"
      ]
    },
    {
      "cell_type": "markdown",
      "metadata": {
        "id": "QJ9J7NE6pMXr",
        "colab_type": "text"
      },
      "source": [
        "# 1. Funciones\n",
        "\n",
        "\n",
        "En esta sección se retoma la el concepto de funciones que son bloques de códigos que están desieñados para hacer un trabajo específico. Una vez que se desea reaizar una tarea que ya ha sido desarrollada dentro de función, simplemente se tiene que mandar a llamar o invocar a la función.\n",
        "\n",
        "En esta sección también se muestra cómo mandar información a una funcion diseñanada para procesar datos y  regresar algún valor o ejecutar algún comando. \n",
        "\n",
        "Finalmente se muestra como almacenar funciones en archivos separados llamandos *módulos* que ayudan a organizar mejor el programa principal."
      ]
    },
    {
      "cell_type": "markdown",
      "metadata": {
        "id": "LlF4NXs4pMXt",
        "colab_type": "text"
      },
      "source": [
        "## 1.1. Definiendo una función ##\n",
        "\n",
        "Aquí se muestra un ejemplo de una función llamada $\\verb|greet_user|$ que simplemente imprime en la terminal una saludo"
      ]
    },
    {
      "cell_type": "code",
      "metadata": {
        "id": "e8RNfb5rpMXv",
        "colab_type": "code",
        "outputId": "c4d80882-84bb-4352-c6b1-75f79ad3c0da",
        "colab": {
          "base_uri": "https://localhost:8080/",
          "height": 34
        }
      },
      "source": [
        "########################################\n",
        "# CELDA 1 : Definición de una función  #\n",
        "########################################\n",
        "\n",
        "\n",
        "# Esta es la definición de una función\n",
        "def greet_user():\n",
        "    \"\"\"Mostrar un simple saludo.\"\"\"\n",
        "    print(\"Hola!\")\n",
        "\n",
        "\n",
        "# Ya estamos fuera de la función y se mandará a llamar\n",
        "greet_user()"
      ],
      "execution_count": 0,
      "outputs": [
        {
          "output_type": "stream",
          "text": [
            "Hola!\n"
          ],
          "name": "stdout"
        }
      ]
    },
    {
      "cell_type": "markdown",
      "metadata": {
        "id": "qXaMLVW5pMX5",
        "colab_type": "text"
      },
      "source": [
        "En este ejemplo se muestra la estructura más simple de una fucnión . En la línea $\\verb|1|$ se utiliza la palabra reservada $\\verb|def|$ para notificar al intérprete de Python que comienza una función, seguido de $\\verb|def|$ sigue el nombre de la función y después unos parétesis vacíos, estos paréntesis vacíos implican que la fución no recibe ninguna información par poder trabajar, después de los paréntesis van dos puntos, estos indican que el código que sigue a continuación es el cuerpo de la función. Observe que todas las líneas de código pertenecientes a la fución deben de guardar la misma sangría. \n",
        "\n",
        "\n",
        "### 1.1.1 Pasando información a la función\n",
        "\n",
        "La función anterior sólo puede decir Hola, a continuación se muestra una modificación a la función para que ésta pueda mostrar un saludo personalizado."
      ]
    },
    {
      "cell_type": "code",
      "metadata": {
        "id": "0w31Ge9PpMX6",
        "colab_type": "code",
        "outputId": "9149acc6-b362-453e-cc50-aceb72a57120",
        "colab": {
          "base_uri": "https://localhost:8080/",
          "height": 34
        }
      },
      "source": [
        "#########################################\n",
        "# CELDA 2 : Paso de info a la función   #\n",
        "#########################################\n",
        "\n",
        "\n",
        "# Esta es la definición de una función \n",
        "def greet_user(username):\n",
        "    \"\"\" Mostrar un saludo personalizado\"\"\"\n",
        "    print(\"Hola \"+username.title()+\"!\")\n",
        "    \n",
        "#Ya estamos fuera de la función y se mandará a llamar\n",
        "greet_user(\"Juan Pérez\")"
      ],
      "execution_count": 0,
      "outputs": [
        {
          "output_type": "stream",
          "text": [
            "Hola Juan Pérez!\n"
          ],
          "name": "stdout"
        }
      ]
    },
    {
      "cell_type": "markdown",
      "metadata": {
        "id": "_jgAzAxNpMYB",
        "colab_type": "text"
      },
      "source": [
        "### 1.1.2 Ejercicios\n",
        "\n",
        "#### 1.1.2.1.Mensaje.\n",
        "Escriba una función llamanda $\\verb|display_message()|$ que imprima en la pantalla un mensaje que indique los temas que se han visto hasta el momento.\n",
        "\n",
        "#### 1.1.2.2 Libro favorito.\n",
        "Escriba una función que se llame $\\verb|libro_favorito()|$ que acepte un parámetro llamado $\\verb|titulo|$ y que despligue en la terminal *Tu libro favorito es (nombre del libro)*"
      ]
    },
    {
      "cell_type": "code",
      "metadata": {
        "id": "pkdlhh-w5qgu",
        "colab_type": "code",
        "outputId": "0111d6c2-61e5-4dcc-f21d-2c994bb8b656",
        "colab": {
          "base_uri": "https://localhost:8080/",
          "height": 34
        }
      },
      "source": [
        "def display_massage(tema):\n",
        "    print(\"Los temas vistos hasta ahora en clase son \"+tema.title()+\"!\")\n",
        "display_massage(\"Class,Fuctions, etc...\")"
      ],
      "execution_count": 0,
      "outputs": [
        {
          "output_type": "stream",
          "text": [
            "Los temas vistos hasta ahora en clase son Class,Fuctions, Etc...!\n"
          ],
          "name": "stdout"
        }
      ]
    },
    {
      "cell_type": "markdown",
      "metadata": {
        "id": "QvMgJejcpMYD",
        "colab_type": "text"
      },
      "source": [
        "## 1.2. Paso de argumentos\n",
        "\n",
        "En ocasiones una fución necesita múltiples parámetros, dentro de Python existen diferentes maneras de pasar los argumentos a una función, el uso y la implementación dependerá de la necesidad del usuario y programador.\n"
      ]
    },
    {
      "cell_type": "markdown",
      "metadata": {
        "id": "zOgnMtNWpMYF",
        "colab_type": "text"
      },
      "source": [
        "### 1.2.1 Argumentos Posicionales\n",
        "\n",
        "Ejecute las siguientes celdas y observe los resultados"
      ]
    },
    {
      "cell_type": "code",
      "metadata": {
        "id": "tjrPorYYpMYG",
        "colab_type": "code",
        "colab": {}
      },
      "source": [
        "#########################################\n",
        "# CELDA 3 : Descripción de mascota      #\n",
        "#########################################\n",
        "\n",
        "\n",
        "def descripcion_mascota(tipo_animal, nombre):\n",
        "    \"\"\"Muestra la información de una mascota.\"\"\"\n",
        "    print(\"\\nTengo un(a) \" + tipo_animal + \" como mascota.\")\n",
        "    print(\"Mi \" + tipo_animal +  \" se llama \" + nombre)"
      ],
      "execution_count": 0,
      "outputs": []
    },
    {
      "cell_type": "code",
      "metadata": {
        "id": "0eIPbqoHpMYN",
        "colab_type": "code",
        "outputId": "78f25c66-2b27-4ebc-80e6-0ddc7b637264",
        "colab": {
          "base_uri": "https://localhost:8080/",
          "height": 68
        }
      },
      "source": [
        "#########################################\n",
        "# CELDA 4 :                             #\n",
        "#########################################\n",
        "\n",
        "\n",
        "descripcion_mascota(\"perro\",\"Filemon\")"
      ],
      "execution_count": 0,
      "outputs": [
        {
          "output_type": "stream",
          "text": [
            "\n",
            "Tengo un(a) perro como mascota.\n",
            "Mi perro se llama Filemon\n"
          ],
          "name": "stdout"
        }
      ]
    },
    {
      "cell_type": "code",
      "metadata": {
        "id": "N4m3XixhpMYU",
        "colab_type": "code",
        "outputId": "1af500ce-602b-4b22-8f61-f8c5895abc48",
        "colab": {
          "base_uri": "https://localhost:8080/",
          "height": 68
        }
      },
      "source": [
        "#########################################\n",
        "# CELDA 5 :                             #\n",
        "#########################################\n",
        "\n",
        "\n",
        "descripcion_mascota(\"Michi\",\"gato\")"
      ],
      "execution_count": 0,
      "outputs": [
        {
          "output_type": "stream",
          "text": [
            "\n",
            "Tengo un(a) Michi como mascota.\n",
            "Mi Michi se llama gato\n"
          ],
          "name": "stdout"
        }
      ]
    },
    {
      "cell_type": "markdown",
      "metadata": {
        "id": "WuUh2UJ7pMYb",
        "colab_type": "text"
      },
      "source": [
        "La función se llama $\\verb|descripcion_mascota|$ y se puede observar en su implementación en la *celda 3* observe que recibe dos parámetros que deben de ser de tipo *string*, e imprime la información referente a mascota, en la *celda 4 y 5* se manda a llamar la función y si se observa el resultado de la celda 4 los enunciados muestran coherencia, mientras que en la celda 5 son incoherentes. \n",
        "\n",
        "La diferncia entre las celdas fue el orden de los argumentos, en la celda 4 \"perro\" lo asinga a \"tipo de animal\" y \"Filemon\" lo asigna a nombre, mientras que en la celda 5 \"Michi\" lo asigna \"tipo de animal\", mientras que \"gato\" lo asinga a \"nombre\".\n",
        "\n",
        "A esta forma de mandar los parámetros en los que es de gran importancia el orden en que se mandan los mismos, se le conoce como **Argumentos posicionales**"
      ]
    },
    {
      "cell_type": "markdown",
      "metadata": {
        "id": "gpDotvTApMYd",
        "colab_type": "text"
      },
      "source": [
        "### 1.2.2 Argumentos \"Keyword\"\n",
        "\n",
        "Ejecute la *celda 3* y depués las *celda 6 y 7*"
      ]
    },
    {
      "cell_type": "code",
      "metadata": {
        "id": "Ml5XMO0BpMYh",
        "colab_type": "code",
        "outputId": "6d398606-c3c6-44d8-db2b-acbdca8e5f34",
        "colab": {
          "base_uri": "https://localhost:8080/",
          "height": 68
        }
      },
      "source": [
        "#########################################\n",
        "# CELDA 6 :                             #\n",
        "#########################################\n",
        "\n",
        "\n",
        "descripcion_mascota(tipo_animal = \"hamster\",nombre = \"Harry\")"
      ],
      "execution_count": 2,
      "outputs": [
        {
          "output_type": "stream",
          "text": [
            "\n",
            "Tengo un(a) hamster como mascota.\n",
            "Mi hamster se llama Harry\n"
          ],
          "name": "stdout"
        }
      ]
    },
    {
      "cell_type": "code",
      "metadata": {
        "scrolled": true,
        "id": "dM40KvmSpMYq",
        "colab_type": "code",
        "outputId": "5599ca10-cb7d-4032-ef95-ee75ca817f93",
        "colab": {
          "base_uri": "https://localhost:8080/",
          "height": 68
        }
      },
      "source": [
        "#########################################\n",
        "# CELDA 7 :                             #\n",
        "#########################################\n",
        "\n",
        "\n",
        "descripcion_mascota(nombre = \"Cuco\",tipo_animal = \"Hurón\")"
      ],
      "execution_count": 0,
      "outputs": [
        {
          "output_type": "stream",
          "text": [
            "\n",
            "Tengo un(a) Hurón como mascota.\n",
            "Mi Hurón se llama Cuco\n"
          ],
          "name": "stdout"
        }
      ]
    },
    {
      "cell_type": "markdown",
      "metadata": {
        "id": "-XWv8RFRpMYz",
        "colab_type": "text"
      },
      "source": [
        "Observe que ahora el orden de los argumentos no importa, esto se debe a que desde que se manda a llamar la función se hace la asignación a los variables locales de la función. Es de gran importancia que note que la implementación de la función no cambió en nada, los cambios se deben de hacer al momento de llamar la función."
      ]
    },
    {
      "cell_type": "markdown",
      "metadata": {
        "id": "ojYPLxxdpMY0",
        "colab_type": "text"
      },
      "source": [
        "## 1.2.3 Valores predeterminados\n",
        "\n",
        "En la definición de las funciones se puede definir valores predeterminados para los parámetros. Si un parámetro se manda desde la llamada de la función Python utiliza el valor que se ha mandado en la invocación de la función y deshecha el predeterminado, sino se ha manda el parámetro desde la llamada de la función entonces se utilizará el valor predeterminado. Observe el código de las celda 8 y ejecute la celda para observar el comportamiento de la misma."
      ]
    },
    {
      "cell_type": "code",
      "metadata": {
        "id": "2JChyaeWpMY2",
        "colab_type": "code",
        "colab": {
          "base_uri": "https://localhost:8080/",
          "height": 68
        },
        "outputId": "177bdee9-ced5-49e3-f1f9-a229afce0fb7"
      },
      "source": [
        "#########################################\n",
        "# CELDA 8 : Valores predeterminados     #\n",
        "#########################################\n",
        "def descripcion_mascota(nombre,tipo_animal = \"perro\"):\n",
        "    \"\"\"Muestra la información de una mascota\"\"\"\n",
        "    print(\"\\nUsted tiene un@ \" + tipo_animal +\".\" )\n",
        "    print(\"Mi \" + tipo_animal + \" se llama \" + nombre.title() +\".\")\n",
        "\n",
        "descripcion_mascota(nombre=\"Orejas\")"
      ],
      "execution_count": 3,
      "outputs": [
        {
          "output_type": "stream",
          "text": [
            "\n",
            "Usted tiene un@ perro.\n",
            "Mi perro se llama Orejas.\n"
          ],
          "name": "stdout"
        }
      ]
    },
    {
      "cell_type": "markdown",
      "metadata": {
        "id": "CErIkETupMY8",
        "colab_type": "text"
      },
      "source": [
        "## 1.3 Ejercicios\n",
        "\n",
        "### 1.3.1 Playera\n",
        "\n",
        "Escriba una función llamanda $\\verb|hacerPlayera()|$ que acepte como argumento, el tamaño y un texto que apararecerá cerigrafeado en la playera. La función deberá imprimir en la terminal algo parecido a lo siguiente\n",
        "\n",
        "*La playera es talla \"Grande\" y el texto a cerigrafear es: \"Hola amigos\"*\n",
        "\n",
        "Para verificar el correcto funcionamiento de la función, genere un programa que la invoque. \n",
        "\n"
      ]
    },
    {
      "cell_type": "code",
      "metadata": {
        "id": "D5uSn5icpMY9",
        "colab_type": "code",
        "colab": {
          "base_uri": "https://localhost:8080/",
          "height": 34
        },
        "outputId": "cc78ce98-d517-4aba-822e-32edbf016f00"
      },
      "source": [
        "####  Prgrama de Playeras  ###\n",
        "def hacerPlayera(tamaño_play,cerigrafo):\n",
        "    print(\"La playera es talla \"+tamaño_play+\" y el texto cerigrafiado es \"+cerigrafo+\".\")\n",
        "hacerPlayera(\"Grande\",\"Hola amigos\")\n",
        "\n",
        "    "
      ],
      "execution_count": 4,
      "outputs": [
        {
          "output_type": "stream",
          "text": [
            "La playera es talla Grande y el texto cerigrafiado es Hola amigos.\n"
          ],
          "name": "stdout"
        }
      ]
    },
    {
      "cell_type": "markdown",
      "metadata": {
        "id": "EcG_Cn6KpMZL",
        "colab_type": "text"
      },
      "source": [
        "### 1.3.2 Playeras Grandes\n",
        "\n",
        "Modique la función $\\verb|hacerPlayera()|$ de tal manera que las playeras grandes sean predeterminadas y el texto predefinido para la cerigrafear sea $\\verb|yo <3 Python|$.\n",
        "\n",
        "Para verificar el correcto funcionamiento del módulo:\n",
        "\n",
        "1. Genere una playera grande utlizando el texto predeterminado.\n",
        "\n",
        "2. Genere una playera mediana con el texto predeterminado.\n",
        "\n",
        "3. Genere una playera de talla distinta a grande con un texto distinto al predeterminado.\n",
        "\n",
        "\n"
      ]
    },
    {
      "cell_type": "code",
      "metadata": {
        "id": "pIuMzVmg7OW4",
        "colab_type": "code",
        "colab": {
          "base_uri": "https://localhost:8080/",
          "height": 34
        },
        "outputId": "af2b5019-12c1-4505-8bc8-0429c8e2e379"
      },
      "source": [
        "def Hacer_playera (texto,size=\"Grande\"):\n",
        "   \n",
        "    print(\"La playera es talla \"+size+ \"  que dice el  siguiente texto\"+texto+\".\")\n",
        "\n",
        "Hacer_playera(texto=\" yo <3 Python\")"
      ],
      "execution_count": 17,
      "outputs": [
        {
          "output_type": "stream",
          "text": [
            "La playera es talla Grande  que dice el  siguiente texto yo <3 Python.\n"
          ],
          "name": "stdout"
        }
      ]
    },
    {
      "cell_type": "code",
      "metadata": {
        "id": "jueDsOPh8dVb",
        "colab_type": "code",
        "colab": {
          "base_uri": "https://localhost:8080/",
          "height": 34
        },
        "outputId": "f7da8baf-42c6-4631-e883-96852e0aa8bc"
      },
      "source": [
        "def Hacer_playera (texto,size=\"Mediana\"):\n",
        "   \n",
        "    print(\"La playera es talla \"+size+ \"  que dice el  siguiente texto\"+texto+\".\")\n",
        "\n",
        "Hacer_playera(texto=\" yo <3 Python\")"
      ],
      "execution_count": 18,
      "outputs": [
        {
          "output_type": "stream",
          "text": [
            "La playera es talla Mediana  que dice el  siguiente texto yo <3 Python.\n"
          ],
          "name": "stdout"
        }
      ]
    },
    {
      "cell_type": "code",
      "metadata": {
        "id": "0KybNdRp8jOk",
        "colab_type": "code",
        "colab": {
          "base_uri": "https://localhost:8080/",
          "height": 34
        },
        "outputId": "56dddb14-5a3f-4d73-a637-b662a60aff32"
      },
      "source": [
        "def Hacer_playera (texto,size=\"Unitalla\"):\n",
        "   \n",
        "    print(\"La playera es \"+size+ \"  que dice el  siguiente texto\"+texto+\".\")\n",
        "\n",
        "Hacer_playera(texto=\" las cosas de la vida\")"
      ],
      "execution_count": 20,
      "outputs": [
        {
          "output_type": "stream",
          "text": [
            "La playera es Unitalla  que dice el  siguiente texto las cosas de la vida.\n"
          ],
          "name": "stdout"
        }
      ]
    },
    {
      "cell_type": "markdown",
      "metadata": {
        "id": "5XdYyTUgpMZS",
        "colab_type": "text"
      },
      "source": [
        "### 1.3.2 Países y ciudades\n",
        "\n",
        "Escriba una función llamada $\\verb|descripcionCiudad()|$ que acepte como argumentos el nombre de una ciudad y el nombre de un país como argumentos y que imprima en la terminal un texto como: *Xalapa está en México*, *Río de Janeiro está en Brazil*, *París está en Fracia*. Ponga como valor predeterminado \"México\" a la variable país, y llame a la función tres veces donde por lo menos una ciudad no pertenezca al país México.\n",
        "\n"
      ]
    },
    {
      "cell_type": "code",
      "metadata": {
        "id": "5VAvtcILpMZT",
        "colab_type": "code",
        "colab": {
          "base_uri": "https://localhost:8080/",
          "height": 119
        },
        "outputId": "63bb509c-dbf1-40d9-891d-02ec636b8334"
      },
      "source": [
        "def descripcionCiudad(ciudad,pais=\"México\"):\n",
        "     print(\"La ciuda de \"+ciudad+\" se  encuentra en el siguiente  país, \"+pais+\".\")\n",
        "\n",
        "descripcionCiudad(\"Sevilla\",\"España\")\n",
        "descripcionCiudad(\"Guadalajara\")\n",
        "descripcionCiudad(\"Monterrey\")\n",
        "descripcionCiudad(\"Merida\")\n",
        "descripcionCiudad(\"Berlín\",\"Alemania\")\n",
        "descripcionCiudad(\"Colonia\")\n"
      ],
      "execution_count": 47,
      "outputs": [
        {
          "output_type": "stream",
          "text": [
            "La ciuda de Sevilla se  encuentra en el siguiente  país, España.\n",
            "La ciuda de Guadalajara se  encuentra en el siguiente  país, México.\n",
            "La ciuda de Monterrey se  encuentra en el siguiente  país, México.\n",
            "La ciuda de Merida se  encuentra en el siguiente  país, México.\n",
            "La ciuda de Berlín se  encuentra en el siguiente  país, Alemania.\n",
            "La ciuda de Colonia se  encuentra en el siguiente  país, México.\n"
          ],
          "name": "stdout"
        }
      ]
    },
    {
      "cell_type": "markdown",
      "metadata": {
        "id": "DkMtzUYgpMZb",
        "colab_type": "text"
      },
      "source": [
        "## 1.4 Valores de regreso\n",
        "\n",
        "## 1.4.1 Introducción.\n",
        "Una función no necesariamente tiene que imprimir texto o mostrar la información que recibe, usualmente, existen funciones que reciben argumentos, los procesan y después regresan al programa principal el o los datos modificados, a éstos datos que la función regresa al programa principal se le conoce como **valor de regreso** o **valor de retorno**, observe el código de la siguiente celda y su comportamiento, en la que se calcula el volumen de un cubo."
      ]
    },
    {
      "cell_type": "code",
      "metadata": {
        "id": "NvkPA6wnpMZc",
        "colab_type": "code",
        "outputId": "7bb07c23-e062-4fa1-b1b3-566217131ea1",
        "colab": {}
      },
      "source": [
        "def volumenCubo(longitud_lado):\n",
        "    volumen = longitud_lado**3\n",
        "    return volumen\n",
        "\n",
        "print(\"El volumen de un cubo cuyos lados miden 4cm es: \" + str(volumenCubo(4)) + \" cm^3\")\n",
        "\n"
      ],
      "execution_count": 0,
      "outputs": [
        {
          "output_type": "stream",
          "text": [
            "El volumen de un cubo cuyos lados miden 4cm es: 64 cm^3\n"
          ],
          "name": "stdout"
        }
      ]
    },
    {
      "cell_type": "markdown",
      "metadata": {
        "id": "2cbbMbpKpMZl",
        "colab_type": "text"
      },
      "source": [
        "Observe que la función $\\verb|volumenCubo(longitud_lado):|$ recibe como argumento un número y dentro de la función eleva ese valor al cubo y lo asigna a la variable local $\\verb|volumen|$ y regresa el valor guardado en $\\verb|volumen|$"
      ]
    },
    {
      "cell_type": "markdown",
      "metadata": {
        "id": "DiCZYB-_pMZm",
        "colab_type": "text"
      },
      "source": [
        "## 1.5 Almacenando Funciones en Módulo\n",
        "\n",
        "Una ventaja de las funciones es que se pueden almacenar en archivos distintos de tal manera que el archivo principal no esté tan extenso y sea más sencillo de dar mantenimiento y poder depurar los errores, en otros lenguajes de programación como en C y C++ es equivalente las ilbrerías creadas por los usuarios.\n",
        "\n",
        "En la siguiente celda se muestra un ejemplo de una librería en la que se calcula el área y perímetro de la cara de un cubo, el área, perímetro y volumen de un cubo. "
      ]
    },
    {
      "cell_type": "markdown",
      "metadata": {
        "id": "xLzKdnKupMZo",
        "colab_type": "raw"
      },
      "source": [
        "####       cubo.py     ####\n",
        "def cara_area(lado):\n",
        "\treturn lado**2\n",
        "\n",
        "def cara_perimetro(lado):\n",
        "\treturn lado*4\n",
        "\n",
        "def perimetro(lado):\n",
        "\treturn lado*12\n",
        "\n",
        "def volumen(lado):\n",
        "\treturn lado**3\n",
        "\n",
        "def area(lado):\n",
        "\treturn cara_area(lado)*6\n"
      ]
    },
    {
      "cell_type": "markdown",
      "metadata": {
        "id": "DfeMHOX1pMZp",
        "colab_type": "text"
      },
      "source": [
        "Para agregar una sóla función del módulo que se llama $\\verb|cubo.py|$ sólo basta poner al inicio la siguiente directiva:\n",
        "\n",
        "$\\verb|from cubo import cara_area|$"
      ]
    },
    {
      "cell_type": "code",
      "metadata": {
        "id": "ZYByGlJ1pMZq",
        "colab_type": "code",
        "outputId": "bb3cc839-516d-4fb4-d498-41728348d884",
        "colab": {}
      },
      "source": [
        "from cubo import cara_area\n",
        "\n",
        "print(\"El área de la cara de un cubo cuyo lado es 2 cm es: \" + str(cara_area(2)))"
      ],
      "execution_count": 0,
      "outputs": [
        {
          "output_type": "stream",
          "text": [
            "El área de la cara de un cubo cuyo lado es 2 cm es: 4\n"
          ],
          "name": "stdout"
        }
      ]
    },
    {
      "cell_type": "markdown",
      "metadata": {
        "id": "FsGwVFrmpMZx",
        "colab_type": "text"
      },
      "source": [
        "Para agregar todo el módulo, se pueden agregar todas las funciones una por una, sin embargo, si el módulo tiene muchas funciones no resulta muy práctico, para poder agregar todo el módulo se debe de agregar la siguiente directiva\n",
        "\n",
        "$\\verb|from cubo import *|$"
      ]
    },
    {
      "cell_type": "code",
      "metadata": {
        "id": "a1yw7AfLpMZ0",
        "colab_type": "code",
        "outputId": "869bfcff-78b9-45ca-a163-ad02c37c73da",
        "colab": {}
      },
      "source": [
        "from cubo import *\n",
        "\n",
        "print(\"El área de la cara de un cubo cuyo lado es 2 cm es: \" + str(cara_area(2)))\n",
        "\n",
        "print(\"El perímetro de la cara de un cubo de lado de 2cm por lado es: \" + str(cara_perimetro(2)))\n",
        "\n",
        "print(\"El perímetro de un cubo cuyos lados miden 3 cm es:  \" + str(perimetro(3)))\n",
        "\n",
        "print(\"El área de un cubo cuyos lados miden 3 cm es: \" + str(area(3)))\n",
        "\n",
        "print(\"El volumen de un cubo cuyos lados miden 3 cm es: \" + str(volumen(3)))"
      ],
      "execution_count": 0,
      "outputs": [
        {
          "output_type": "stream",
          "text": [
            "El área de la cara de un cubo cuyo lado es 2 cm es: 4\n",
            "El perímetro de la cara de un cubo de lado de 2cm por lado es: 8\n",
            "El perímetro de un cubo cuyos lados miden 3 cm es:  36\n",
            "El área de un cubo cuyos lados miden 3 cm es: 54\n",
            "El volumen de un cubo cuyos lados miden 3 cm es: 27\n"
          ],
          "name": "stdout"
        }
      ]
    },
    {
      "cell_type": "markdown",
      "metadata": {
        "id": "MVs3WxwQpMZ8",
        "colab_type": "text"
      },
      "source": [
        "## 1.6 Ejercicios\n",
        "\n",
        "1. Hacer un módulo con las funciones básicas para una calculadora, suma, resta, producto y división, en la función de división si el denomidador es igual a cero debe de volver a leer el valor del denominador hasta que sea distinto de cero (se recomienda utilizar el ciclo while y el condicional if)\n",
        "\n",
        "2. Hacer una función que el usuario introduzca un número y la función debe de desplegar un triángulo de sumas, *Como ejemplo, si el usuario manda  a la función 4 debeía imprimir el siguiente arreglo*\n",
        "\n",
        "+\n",
        "\n",
        "++\n",
        "\n",
        "+++\n",
        "\n",
        "++++\n"
      ]
    },
    {
      "cell_type": "code",
      "metadata": {
        "id": "CWfDHYFppMZ9",
        "colab_type": "code",
        "colab": {}
      },
      "source": [
        ""
      ],
      "execution_count": 0,
      "outputs": []
    }
  ]
}